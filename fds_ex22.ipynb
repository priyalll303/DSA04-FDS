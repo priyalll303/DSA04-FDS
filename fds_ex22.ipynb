{
 "cells": [
  {
   "cell_type": "code",
   "execution_count": 1,
   "id": "39c57f4d-07d3-4070-a73c-28dc39ce8f6a",
   "metadata": {},
   "outputs": [],
   "source": [
    "import pandas as pd\n",
    "from scipy import stats"
   ]
  },
  {
   "cell_type": "code",
   "execution_count": 2,
   "id": "0c3867f2-dcb6-4549-93f9-3a633b398338",
   "metadata": {},
   "outputs": [],
   "source": [
    "df = pd.read_csv(r\"C:\\Users\\DELL\\Downloads\\customer_reviews.csv\")"
   ]
  },
  {
   "cell_type": "code",
   "execution_count": 3,
   "id": "9257d647-c8d6-49f6-a6b8-46dabedefb87",
   "metadata": {},
   "outputs": [],
   "source": [
    "ratings = df['rating'].dropna()\n",
    "n = len(ratings)\n",
    "mean = ratings.mean()\n",
    "std_err = stats.sem(ratings)\n",
    "conf_level = 0.95"
   ]
  },
  {
   "cell_type": "code",
   "execution_count": 4,
   "id": "4e1ff8db-14a9-49f1-ba32-23e042e35e20",
   "metadata": {},
   "outputs": [],
   "source": [
    "h = std_err * stats.t.ppf((1 + conf_level) / 2, n - 1)\n",
    "ci = (mean - h, mean + h)"
   ]
  },
  {
   "cell_type": "code",
   "execution_count": 5,
   "id": "4082e3f6-466c-4775-9bf1-5ef1da0e56af",
   "metadata": {},
   "outputs": [
    {
     "name": "stdout",
     "output_type": "stream",
     "text": [
      "Average Rating: 3.09\n",
      "95% Confidence Interval: (2.899256837908575, 3.280743162091425)\n"
     ]
    }
   ],
   "source": [
    "print(f\"Average Rating: {mean:.2f}\")\n",
    "print(f\"{int(conf_level*100)}% Confidence Interval: {ci}\")"
   ]
  },
  {
   "cell_type": "code",
   "execution_count": null,
   "id": "c6923c58-2e65-43b3-bbfb-8938ed551023",
   "metadata": {},
   "outputs": [],
   "source": []
  }
 ],
 "metadata": {
  "kernelspec": {
   "display_name": "Python 3 (ipykernel)",
   "language": "python",
   "name": "python3"
  },
  "language_info": {
   "codemirror_mode": {
    "name": "ipython",
    "version": 3
   },
   "file_extension": ".py",
   "mimetype": "text/x-python",
   "name": "python",
   "nbconvert_exporter": "python",
   "pygments_lexer": "ipython3",
   "version": "3.12.4"
  }
 },
 "nbformat": 4,
 "nbformat_minor": 5
}
