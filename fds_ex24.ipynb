{
 "cells": [
  {
   "cell_type": "code",
   "execution_count": 5,
   "id": "f24c2158-7b15-4dcc-91cf-5d34519d7732",
   "metadata": {},
   "outputs": [],
   "source": [
    "import pandas as pd\n",
    "import numpy as np\n",
    "from sklearn.neighbors import KNeighborsClassifier"
   ]
  },
  {
   "cell_type": "code",
   "execution_count": 6,
   "id": "2fe3f7bf-4459-4071-a97b-ccebd9515d93",
   "metadata": {},
   "outputs": [],
   "source": [
    "df = pd.read_csv(r\"C:\\Users\\DELL\\Downloads\\patient_data.csv\")\n",
    "X = df.drop(\"condition\", axis=1)\n",
    "y = df[\"condition\"]"
   ]
  },
  {
   "cell_type": "code",
   "execution_count": 7,
   "id": "2c10a8f6-014e-4f1a-8c55-fed58619e745",
   "metadata": {},
   "outputs": [
    {
     "name": "stdin",
     "output_type": "stream",
     "text": [
      "Enter value of k:  4\n",
      "Enter fever:  9\n",
      "Enter cough:  9\n",
      "Enter fatigue:  10\n",
      "Enter headache:  8\n"
     ]
    }
   ],
   "source": [
    "k = int(input(\"Enter value of k: \"))\n",
    "input_features = [float(input(f\"Enter {col}: \")) for col in X.columns]\n",
    "input_df = pd.DataFrame([input_features], columns=X.columns)"
   ]
  },
  {
   "cell_type": "code",
   "execution_count": 8,
   "id": "4f401369-b0cd-4325-8c6c-c23c68e4296c",
   "metadata": {},
   "outputs": [],
   "source": [
    "knn = KNeighborsClassifier(n_neighbors=k)\n",
    "knn.fit(X, y)\n",
    "prediction = knn.predict(input_df)"
   ]
  },
  {
   "cell_type": "code",
   "execution_count": 9,
   "id": "e13b68a5-741a-4e4b-a7cc-7fd0f6e240b3",
   "metadata": {},
   "outputs": [
    {
     "name": "stdout",
     "output_type": "stream",
     "text": [
      "Prediction: No condition\n"
     ]
    }
   ],
   "source": [
    "print(\"Prediction:\", \"Has condition\" if prediction[0] == 1 else \"No condition\")"
   ]
  },
  {
   "cell_type": "code",
   "execution_count": null,
   "id": "68b3244f-76aa-4375-97ea-b3c5af710d3c",
   "metadata": {},
   "outputs": [],
   "source": []
  }
 ],
 "metadata": {
  "kernelspec": {
   "display_name": "Python 3 (ipykernel)",
   "language": "python",
   "name": "python3"
  },
  "language_info": {
   "codemirror_mode": {
    "name": "ipython",
    "version": 3
   },
   "file_extension": ".py",
   "mimetype": "text/x-python",
   "name": "python",
   "nbconvert_exporter": "python",
   "pygments_lexer": "ipython3",
   "version": "3.12.4"
  }
 },
 "nbformat": 4,
 "nbformat_minor": 5
}
