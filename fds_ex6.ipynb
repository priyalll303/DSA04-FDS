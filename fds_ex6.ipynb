{
 "cells": [
  {
   "cell_type": "code",
   "execution_count": 2,
   "id": "8a9301e9-ab6e-4064-a4c7-62854fa77dfa",
   "metadata": {},
   "outputs": [],
   "source": [
    "prices = [50, 30, 20]\n",
    "quantities = [2, 1, 3]\n",
    "discount = 10  # in percent\n",
    "tax = 5  # in percent"
   ]
  },
  {
   "cell_type": "code",
   "execution_count": 3,
   "id": "482c6d1c-73e3-44d3-acc7-0d2c14f75d09",
   "metadata": {},
   "outputs": [],
   "source": [
    "subtotal = sum([p * q for p, q in zip(prices, quantities)])\n",
    "discounted = subtotal * (1 - discount / 100)\n",
    "total = discounted * (1 + tax / 100)"
   ]
  },
  {
   "cell_type": "code",
   "execution_count": 4,
   "id": "22c39fba-728e-4fbc-b8eb-b6ce176b6fe8",
   "metadata": {},
   "outputs": [
    {
     "name": "stdout",
     "output_type": "stream",
     "text": [
      "Final Total: 179.55\n"
     ]
    }
   ],
   "source": [
    "print(\"Final Total:\", total)"
   ]
  },
  {
   "cell_type": "code",
   "execution_count": null,
   "id": "a7771fc6-33c1-4e30-807f-3372d01b384c",
   "metadata": {},
   "outputs": [],
   "source": []
  }
 ],
 "metadata": {
  "kernelspec": {
   "display_name": "Python 3 (ipykernel)",
   "language": "python",
   "name": "python3"
  },
  "language_info": {
   "codemirror_mode": {
    "name": "ipython",
    "version": 3
   },
   "file_extension": ".py",
   "mimetype": "text/x-python",
   "name": "python",
   "nbconvert_exporter": "python",
   "pygments_lexer": "ipython3",
   "version": "3.12.4"
  }
 },
 "nbformat": 4,
 "nbformat_minor": 5
}
