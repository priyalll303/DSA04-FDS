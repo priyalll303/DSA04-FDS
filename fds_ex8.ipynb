{
 "cells": [
  {
   "cell_type": "code",
   "execution_count": 1,
   "id": "3e6ae3e3-12fc-4069-ae13-4ebe25636a8e",
   "metadata": {},
   "outputs": [],
   "source": [
    "import pandas as pd"
   ]
  },
  {
   "cell_type": "code",
   "execution_count": 6,
   "id": "4860da4c-7674-4f34-9911-69a591750427",
   "metadata": {},
   "outputs": [],
   "source": [
    "order_data = pd.DataFrame({\n",
    "    'customer_id': [1, 2, 1, 3, 2],\n",
    "    'order_date': pd.to_datetime(['2024-05-01', '2024-05-02', '2024-05-03', '2024-05-04', '2024-05-05']),\n",
    "    'product_name': ['A', 'B', 'A', 'C', 'B'],\n",
    "    'order_quantity': [2, 1, 3, 1, 2]\n",
    "})"
   ]
  },
  {
   "cell_type": "code",
   "execution_count": 8,
   "id": "d7fa73a9-fa02-4f1f-bbd3-bf660c6bffa8",
   "metadata": {},
   "outputs": [],
   "source": [
    "top_5 = order_data.groupby('product_name')['order_quantity'].sum().nlargest(5)"
   ]
  },
  {
   "cell_type": "code",
   "execution_count": 9,
   "id": "effa55cf-3fd6-4ddc-aab6-0d78b89dad15",
   "metadata": {},
   "outputs": [
    {
     "name": "stdout",
     "output_type": "stream",
     "text": [
      "product_name\n",
      "A    5\n",
      "B    3\n",
      "C    1\n",
      "Name: order_quantity, dtype: int64\n"
     ]
    }
   ],
   "source": [
    "print(top_5)"
   ]
  },
  {
   "cell_type": "code",
   "execution_count": null,
   "id": "64fba3a4-83dd-4a32-b761-e7c2a5612b0f",
   "metadata": {},
   "outputs": [],
   "source": []
  }
 ],
 "metadata": {
  "kernelspec": {
   "display_name": "Python 3 (ipykernel)",
   "language": "python",
   "name": "python3"
  },
  "language_info": {
   "codemirror_mode": {
    "name": "ipython",
    "version": 3
   },
   "file_extension": ".py",
   "mimetype": "text/x-python",
   "name": "python",
   "nbconvert_exporter": "python",
   "pygments_lexer": "ipython3",
   "version": "3.12.4"
  }
 },
 "nbformat": 4,
 "nbformat_minor": 5
}
