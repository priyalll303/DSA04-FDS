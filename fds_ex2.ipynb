{
 "cells": [
  {
   "cell_type": "code",
   "execution_count": 2,
   "id": "abe4e139-f761-406f-936c-780bca0326c6",
   "metadata": {},
   "outputs": [],
   "source": [
    "import numpy as np"
   ]
  },
  {
   "cell_type": "code",
   "execution_count": 3,
   "id": "6dc7819b-b69a-4ae4-85db-714b940e1eec",
   "metadata": {},
   "outputs": [],
   "source": [
    "sales_data = np.array([[100, 120, 130],\n",
    "                       [200, 180, 160],\n",
    "                       [90, 95, 100]])"
   ]
  },
  {
   "cell_type": "code",
   "execution_count": 4,
   "id": "c3c8276d-ea67-460d-806e-87a51ad3781a",
   "metadata": {},
   "outputs": [
    {
     "name": "stdout",
     "output_type": "stream",
     "text": [
      "Average Price: 130.55555555555554\n"
     ]
    }
   ],
   "source": [
    "average_price = np.mean(sales_data)\n",
    "print(\"Average Price:\", average_price)"
   ]
  },
  {
   "cell_type": "code",
   "execution_count": null,
   "id": "39462b87-bb9c-4fdf-812a-80f49b2a93cd",
   "metadata": {},
   "outputs": [],
   "source": []
  }
 ],
 "metadata": {
  "kernelspec": {
   "display_name": "Python 3 (ipykernel)",
   "language": "python",
   "name": "python3"
  },
  "language_info": {
   "codemirror_mode": {
    "name": "ipython",
    "version": 3
   },
   "file_extension": ".py",
   "mimetype": "text/x-python",
   "name": "python",
   "nbconvert_exporter": "python",
   "pygments_lexer": "ipython3",
   "version": "3.12.4"
  }
 },
 "nbformat": 4,
 "nbformat_minor": 5
}
