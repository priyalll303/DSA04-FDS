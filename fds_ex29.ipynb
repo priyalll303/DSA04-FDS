{
 "cells": [
  {
   "cell_type": "code",
   "execution_count": 1,
   "id": "65cca555-c947-4cb3-98b6-8ce1129047e3",
   "metadata": {},
   "outputs": [],
   "source": [
    "from sklearn.metrics import accuracy_score, precision_score, recall_score, f1_score\n",
    "from sklearn.model_selection import train_test_split\n",
    "from sklearn.linear_model import LogisticRegression\n",
    "import pandas as pd"
   ]
  },
  {
   "cell_type": "code",
   "execution_count": 4,
   "id": "b27b5f79-4cc4-4ecd-a53c-258596e18137",
   "metadata": {},
   "outputs": [
    {
     "name": "stdin",
     "output_type": "stream",
     "text": [
      "Enter feature column names (comma-separated):  feature3\n",
      "Enter target column name:  target\n"
     ]
    }
   ],
   "source": [
    "df = pd.read_csv(r\"C:\\Users\\DELL\\Downloads\\fds_csv files\\model_eval_data.csv\")\n",
    "features = input(\"Enter feature column names (comma-separated): \").split(',')\n",
    "target = input(\"Enter target column name: \")"
   ]
  },
  {
   "cell_type": "code",
   "execution_count": 5,
   "id": "dd9c7cac-cdc1-406c-8bd2-e2e612cb2d67",
   "metadata": {},
   "outputs": [],
   "source": [
    "X = df[features]\n",
    "y = df[target]"
   ]
  },
  {
   "cell_type": "code",
   "execution_count": 6,
   "id": "87a53528-9214-4cc4-843c-a0491bb53b61",
   "metadata": {},
   "outputs": [],
   "source": [
    "X_train, X_test, y_train, y_test = train_test_split(X, y, test_size=0.2)\n",
    "model = LogisticRegression()\n",
    "model.fit(X_train, y_train)\n",
    "y_pred = model.predict(X_test)"
   ]
  },
  {
   "cell_type": "code",
   "execution_count": 7,
   "id": "8eb26856-366c-4373-b5ec-2567e75841c2",
   "metadata": {},
   "outputs": [
    {
     "name": "stdout",
     "output_type": "stream",
     "text": [
      "Accuracy: 0.425\n",
      "Precision: 0.41195054945054943\n",
      "Recall: 0.425\n",
      "F1-score: 0.4120245003223726\n"
     ]
    }
   ],
   "source": [
    "print(\"Accuracy:\", accuracy_score(y_test, y_pred))\n",
    "print(\"Precision:\", precision_score(y_test, y_pred, average='weighted'))\n",
    "print(\"Recall:\", recall_score(y_test, y_pred, average='weighted'))\n",
    "print(\"F1-score:\", f1_score(y_test, y_pred, average='weighted'))"
   ]
  },
  {
   "cell_type": "code",
   "execution_count": null,
   "id": "9a34b2d7-4943-478e-a6ca-99dd107ac356",
   "metadata": {},
   "outputs": [],
   "source": []
  }
 ],
 "metadata": {
  "kernelspec": {
   "display_name": "Python 3 (ipykernel)",
   "language": "python",
   "name": "python3"
  },
  "language_info": {
   "codemirror_mode": {
    "name": "ipython",
    "version": 3
   },
   "file_extension": ".py",
   "mimetype": "text/x-python",
   "name": "python",
   "nbconvert_exporter": "python",
   "pygments_lexer": "ipython3",
   "version": "3.12.4"
  }
 },
 "nbformat": 4,
 "nbformat_minor": 5
}
