{
 "cells": [
  {
   "cell_type": "code",
   "execution_count": 1,
   "id": "6b0ead19-1ade-4c27-846e-b51d022a67dd",
   "metadata": {},
   "outputs": [],
   "source": [
    "import pandas as pd\n",
    "import string\n",
    "from collections import Counter\n",
    "import matplotlib.pyplot as plt\n",
    "from nltk.corpus import stopwords\n",
    "import nltk"
   ]
  },
  {
   "cell_type": "code",
   "execution_count": 2,
   "id": "05e3acc1-b9a4-465d-8ddc-04964cd10d4c",
   "metadata": {},
   "outputs": [
    {
     "name": "stderr",
     "output_type": "stream",
     "text": [
      "[nltk_data] Downloading package stopwords to\n",
      "[nltk_data]     C:\\Users\\rjana\\AppData\\Roaming\\nltk_data...\n",
      "[nltk_data]   Package stopwords is already up-to-date!\n"
     ]
    },
    {
     "data": {
      "text/plain": [
       "True"
      ]
     },
     "execution_count": 2,
     "metadata": {},
     "output_type": "execute_result"
    }
   ],
   "source": [
    "nltk.download('stopwords')"
   ]
  },
  {
   "cell_type": "code",
   "execution_count": 3,
   "id": "766fecac-78a6-4e98-b372-880a8581a0ce",
   "metadata": {},
   "outputs": [],
   "source": [
    "data = pd.read_csv(r\"C:\\Users\\rjana\\OneDrive\\Downloads\\Documents\\Desktop\\program\\fundaments of DS\\labfds\\data.csv\")  # assumes 'feedback' column\n",
    "text = ' '.join(data['feedback']).lower()\n",
    "text = text.translate(str.maketrans('', '', string.punctuation))\n",
    "words = text.split()"
   ]
  },
  {
   "cell_type": "code",
   "execution_count": 4,
   "id": "77fa6383-8d6d-499d-8ad0-6c8d6fc4f162",
   "metadata": {},
   "outputs": [],
   "source": [
    "stop_words = set(stopwords.words('english'))\n",
    "filtered_words = [word for word in words if word not in stop_words]"
   ]
  },
  {
   "cell_type": "code",
   "execution_count": null,
   "id": "66b12ff3-8b20-4310-baa2-ad8549f65331",
   "metadata": {},
   "outputs": [],
   "source": [
    "word_freq = Counter(filtered_words)\n",
    "top_n = int(input(\"Enter N: \"))\n",
    "top_words = word_freq.most_common(top_n)"
   ]
  },
  {
   "cell_type": "code",
   "execution_count": null,
   "id": "9e68cc91-2d57-40ac-92e7-245ee828c027",
   "metadata": {},
   "outputs": [],
   "source": []
  }
 ],
 "metadata": {
  "kernelspec": {
   "display_name": "Python 3 (ipykernel)",
   "language": "python",
   "name": "python3"
  },
  "language_info": {
   "codemirror_mode": {
    "name": "ipython",
    "version": 3
   },
   "file_extension": ".py",
   "mimetype": "text/x-python",
   "name": "python",
   "nbconvert_exporter": "python",
   "pygments_lexer": "ipython3",
   "version": "3.12.4"
  }
 },
 "nbformat": 4,
 "nbformat_minor": 5
}
