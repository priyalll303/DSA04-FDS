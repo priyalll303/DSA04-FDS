{
 "cells": [
  {
   "cell_type": "code",
   "execution_count": 1,
   "id": "528814b9-afa7-42af-a20c-8788cbf2f64b",
   "metadata": {},
   "outputs": [],
   "source": [
    "import numpy as np"
   ]
  },
  {
   "cell_type": "code",
   "execution_count": 2,
   "id": "760247e0-d15d-4a47-acda-0a6ef0ed67d6",
   "metadata": {},
   "outputs": [],
   "source": [
    "student_scores = np.array([[80, 75, 85, 90],\n",
    "                           [70, 80, 90, 60],\n",
    "                           [88, 77, 66, 55],\n",
    "                           [90, 92, 85, 70]])"
   ]
  },
  {
   "cell_type": "code",
   "execution_count": 3,
   "id": "b2d16028-1402-4556-acc7-f5d26713560d",
   "metadata": {},
   "outputs": [],
   "source": [
    "subject_names = ['Math', 'Science', 'English', 'History']\n",
    "averages = np.mean(student_scores, axis=0)\n",
    "best_subject = subject_names[np.argmax(averages)]"
   ]
  },
  {
   "cell_type": "code",
   "execution_count": 4,
   "id": "a597dbab-14db-40c3-bd6d-53ded92a804c",
   "metadata": {},
   "outputs": [
    {
     "name": "stdout",
     "output_type": "stream",
     "text": [
      "Average Scores: {'Math': 82.0, 'Science': 81.0, 'English': 81.5, 'History': 68.75}\n",
      "Highest Average Subject: Math\n"
     ]
    }
   ],
   "source": [
    "print(\"Average Scores:\", dict(zip(subject_names, averages)))\n",
    "print(\"Highest Average Subject:\", best_subject)"
   ]
  },
  {
   "cell_type": "code",
   "execution_count": null,
   "id": "7c58179d-2e88-44ce-a1bb-ee4a24a7063b",
   "metadata": {},
   "outputs": [],
   "source": []
  }
 ],
 "metadata": {
  "kernelspec": {
   "display_name": "Python 3 (ipykernel)",
   "language": "python",
   "name": "python3"
  },
  "language_info": {
   "codemirror_mode": {
    "name": "ipython",
    "version": 3
   },
   "file_extension": ".py",
   "mimetype": "text/x-python",
   "name": "python",
   "nbconvert_exporter": "python",
   "pygments_lexer": "ipython3",
   "version": "3.12.4"
  }
 },
 "nbformat": 4,
 "nbformat_minor": 5
}
