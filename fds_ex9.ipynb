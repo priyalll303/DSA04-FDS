{
 "cells": [
  {
   "cell_type": "code",
   "execution_count": 1,
   "id": "b4e31c39-6f06-4057-9605-6781c3102311",
   "metadata": {},
   "outputs": [],
   "source": [
    "import numpy as np\n",
    "import pandas as pd"
   ]
  },
  {
   "cell_type": "code",
   "execution_count": 2,
   "id": "6e518ae9-65fb-494e-9f17-122000efbad4",
   "metadata": {},
   "outputs": [],
   "source": [
    "property_data = pd.DataFrame({\n",
    "    'property_id': [1, 2, 3, 4],\n",
    "    'location': ['A', 'B', 'A', 'C'],\n",
    "    'bedrooms': [3, 5, 2, 6],\n",
    "    'area': [1500, 2500, 1200, 3000],\n",
    "    'price': [300000, 500000, 250000, 600000]\n",
    "})"
   ]
  },
  {
   "cell_type": "code",
   "execution_count": 3,
   "id": "cfb6d875-7656-4c04-a73a-5181913166f8",
   "metadata": {},
   "outputs": [
    {
     "name": "stdout",
     "output_type": "stream",
     "text": [
      "location\n",
      "A    275000.0\n",
      "B    500000.0\n",
      "C    600000.0\n",
      "Name: price, dtype: float64\n",
      "More than 4 bedrooms: 2\n",
      "Largest area property: property_id         4\n",
      "location            C\n",
      "bedrooms            6\n",
      "area             3000\n",
      "price          600000\n",
      "Name: 3, dtype: object\n"
     ]
    }
   ],
   "source": [
    "print(property_data.groupby('location')['price'].mean())  # avg price/location\n",
    "print(\"More than 4 bedrooms:\", len(property_data[property_data['bedrooms'] > 4]))\n",
    "print(\"Largest area property:\", property_data.loc[property_data['area'].idxmax()])"
   ]
  },
  {
   "cell_type": "code",
   "execution_count": null,
   "id": "51abfdcd-0670-427e-8046-c0537cdcc88d",
   "metadata": {},
   "outputs": [],
   "source": []
  }
 ],
 "metadata": {
  "kernelspec": {
   "display_name": "Python 3 (ipykernel)",
   "language": "python",
   "name": "python3"
  },
  "language_info": {
   "codemirror_mode": {
    "name": "ipython",
    "version": 3
   },
   "file_extension": ".py",
   "mimetype": "text/x-python",
   "name": "python",
   "nbconvert_exporter": "python",
   "pygments_lexer": "ipython3",
   "version": "3.12.4"
  }
 },
 "nbformat": 4,
 "nbformat_minor": 5
}
