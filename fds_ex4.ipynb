{
 "cells": [
  {
   "cell_type": "code",
   "execution_count": 1,
   "id": "20b4e105-41bb-4629-bc32-b1b974c30681",
   "metadata": {},
   "outputs": [],
   "source": [
    "import numpy as np"
   ]
  },
  {
   "cell_type": "code",
   "execution_count": 2,
   "id": "9e571228-8e5a-432f-9356-502080097dc4",
   "metadata": {},
   "outputs": [],
   "source": [
    "sales_data = np.array([10000, 12000, 15000, 20000])"
   ]
  },
  {
   "cell_type": "code",
   "execution_count": 3,
   "id": "4f33ff04-a0d8-4ed9-9066-584acc7c156d",
   "metadata": {},
   "outputs": [],
   "source": [
    "total = np.sum(sales_data)\n",
    "percent_increase = ((sales_data[3] - sales_data[0]) / sales_data[0]) * 100"
   ]
  },
  {
   "cell_type": "code",
   "execution_count": 4,
   "id": "7bfe8703-518c-448f-b862-b82eddc8d033",
   "metadata": {},
   "outputs": [
    {
     "name": "stdout",
     "output_type": "stream",
     "text": [
      "Total Sales: 57000\n",
      "Percentage Increase (Q1 to Q4): 100.0 %\n"
     ]
    }
   ],
   "source": [
    "print(\"Total Sales:\", total)\n",
    "print(\"Percentage Increase (Q1 to Q4):\", percent_increase, \"%\")"
   ]
  },
  {
   "cell_type": "code",
   "execution_count": null,
   "id": "09712a6d-cf88-461e-b039-ead4a34375a2",
   "metadata": {},
   "outputs": [],
   "source": []
  }
 ],
 "metadata": {
  "kernelspec": {
   "display_name": "Python 3 (ipykernel)",
   "language": "python",
   "name": "python3"
  },
  "language_info": {
   "codemirror_mode": {
    "name": "ipython",
    "version": 3
   },
   "file_extension": ".py",
   "mimetype": "text/x-python",
   "name": "python",
   "nbconvert_exporter": "python",
   "pygments_lexer": "ipython3",
   "version": "3.12.4"
  }
 },
 "nbformat": 4,
 "nbformat_minor": 5
}
