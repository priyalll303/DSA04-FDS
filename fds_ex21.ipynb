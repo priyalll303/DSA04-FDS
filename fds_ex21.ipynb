{
 "cells": [
  {
   "cell_type": "code",
   "execution_count": 3,
   "id": "fdaa1ec3-14b7-422c-8db4-0dd2f3282da4",
   "metadata": {},
   "outputs": [],
   "source": [
    "import numpy as np\n",
    "import pandas as pd\n",
    "from scipy import stats"
   ]
  },
  {
   "cell_type": "code",
   "execution_count": 4,
   "id": "7e762578-b4c6-4a6d-a1a1-fdf22248b80e",
   "metadata": {},
   "outputs": [],
   "source": [
    "data = pd.read_csv(r\"C:\\Users\\DELL\\Downloads\\rare_elements.csv\")\n",
    "measurements = data['concentration'].dropna().values"
   ]
  },
  {
   "cell_type": "code",
   "execution_count": 5,
   "id": "c0bbfe54-0a0b-4489-b333-e56d7e63c1a0",
   "metadata": {},
   "outputs": [
    {
     "name": "stdin",
     "output_type": "stream",
     "text": [
      "Enter sample size:  10\n",
      "Enter confidence level (e.g., 0.95):  0.5\n"
     ]
    }
   ],
   "source": [
    "# Inputs\n",
    "n = int(input(\"Enter sample size: \"))\n",
    "confidence = float(input(\"Enter confidence level (e.g., 0.95): \"))\n",
    "sample = np.random.choice(measurements, size=n, replace=False)"
   ]
  },
  {
   "cell_type": "code",
   "execution_count": 6,
   "id": "6948d1f0-08c0-4d7b-b353-9e83f74df428",
   "metadata": {},
   "outputs": [],
   "source": [
    "mean = np.mean(sample)\n",
    "std_err = stats.sem(sample)\n",
    "h = std_err * stats.t.ppf((1 + confidence) / 2, n - 1)\n",
    "ci = (mean - h, mean + h)"
   ]
  },
  {
   "cell_type": "code",
   "execution_count": 7,
   "id": "bd1fed50-4c6c-4fd2-bf39-225a3508f354",
   "metadata": {},
   "outputs": [
    {
     "name": "stdout",
     "output_type": "stream",
     "text": [
      "Sample Mean: 4.861654612147018\n",
      "50% Confidence Interval: (4.642247189707871, 5.081062034586165)\n"
     ]
    }
   ],
   "source": [
    "print(f\"Sample Mean: {mean}\")\n",
    "print(f\"{int(confidence*100)}% Confidence Interval: {ci}\")"
   ]
  },
  {
   "cell_type": "code",
   "execution_count": null,
   "id": "1eeb9962-6e97-47a4-8572-86a1089eeef4",
   "metadata": {},
   "outputs": [],
   "source": []
  }
 ],
 "metadata": {
  "kernelspec": {
   "display_name": "Python 3 (ipykernel)",
   "language": "python",
   "name": "python3"
  },
  "language_info": {
   "codemirror_mode": {
    "name": "ipython",
    "version": 3
   },
   "file_extension": ".py",
   "mimetype": "text/x-python",
   "name": "python",
   "nbconvert_exporter": "python",
   "pygments_lexer": "ipython3",
   "version": "3.12.4"
  }
 },
 "nbformat": 4,
 "nbformat_minor": 5
}
