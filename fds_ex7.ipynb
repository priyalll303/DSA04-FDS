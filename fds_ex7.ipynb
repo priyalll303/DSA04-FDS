{
 "cells": [
  {
   "cell_type": "code",
   "execution_count": 1,
   "id": "4cfa9765-b925-481c-82ab-b6220ba3b882",
   "metadata": {},
   "outputs": [],
   "source": [
    "import pandas as pd"
   ]
  },
  {
   "cell_type": "code",
   "execution_count": 2,
   "id": "9afea413-627c-4608-921c-529c11dd71fe",
   "metadata": {},
   "outputs": [],
   "source": [
    "data = {'customer_id': [1, 2, 1, 3, 2],\n",
    "        'order_date': pd.to_datetime(['2024-05-01', '2024-05-02', '2024-05-03', '2024-05-04', '2024-05-05']),\n",
    "        'product_name': ['A', 'B', 'A', 'C', 'B'],\n",
    "        'order_quantity': [2, 1, 3, 1, 2]}"
   ]
  },
  {
   "cell_type": "code",
   "execution_count": 3,
   "id": "7081d45d-bf3b-4702-a7fd-4f118ad266ce",
   "metadata": {},
   "outputs": [],
   "source": [
    "order_data = pd.DataFrame(data)"
   ]
  },
  {
   "cell_type": "code",
   "execution_count": 4,
   "id": "1e156d74-9961-4693-9d2c-c964df3f8fcb",
   "metadata": {},
   "outputs": [
    {
     "name": "stdout",
     "output_type": "stream",
     "text": [
      "customer_id\n",
      "1    2\n",
      "2    2\n",
      "3    1\n",
      "dtype: int64\n",
      "product_name\n",
      "A    2.5\n",
      "B    1.5\n",
      "C    1.0\n",
      "Name: order_quantity, dtype: float64\n",
      "Earliest Date: 2024-05-01 00:00:00\n",
      "Latest Date: 2024-05-05 00:00:00\n"
     ]
    }
   ],
   "source": [
    "print(order_data.groupby('customer_id').size())  # total orders per customer\n",
    "print(order_data.groupby('product_name')['order_quantity'].mean())  # avg quantity per product\n",
    "print(\"Earliest Date:\", order_data['order_date'].min())\n",
    "print(\"Latest Date:\", order_data['order_date'].max())"
   ]
  },
  {
   "cell_type": "code",
   "execution_count": null,
   "id": "e1a8ff1f-2018-443b-81e4-3c360ab099c3",
   "metadata": {},
   "outputs": [],
   "source": []
  }
 ],
 "metadata": {
  "kernelspec": {
   "display_name": "Python 3 (ipykernel)",
   "language": "python",
   "name": "python3"
  },
  "language_info": {
   "codemirror_mode": {
    "name": "ipython",
    "version": 3
   },
   "file_extension": ".py",
   "mimetype": "text/x-python",
   "name": "python",
   "nbconvert_exporter": "python",
   "pygments_lexer": "ipython3",
   "version": "3.12.4"
  }
 },
 "nbformat": 4,
 "nbformat_minor": 5
}
