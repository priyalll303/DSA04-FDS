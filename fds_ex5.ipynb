{
 "cells": [
  {
   "cell_type": "code",
   "execution_count": 1,
   "id": "3306b473-ec7e-4fa1-b1c9-18c72e630a76",
   "metadata": {},
   "outputs": [],
   "source": [
    "import numpy as np"
   ]
  },
  {
   "cell_type": "code",
   "execution_count": 2,
   "id": "ce6672df-f0eb-4fdf-8664-c18a61b3fe64",
   "metadata": {},
   "outputs": [],
   "source": [
    "fuel_efficiency = np.array([25, 28, 30, 32, 35])"
   ]
  },
  {
   "cell_type": "code",
   "execution_count": 3,
   "id": "efeede76-bcd2-46b3-8822-8a9d687e2ba1",
   "metadata": {},
   "outputs": [],
   "source": [
    "avg_eff = np.mean(fuel_efficiency)\n",
    "improvement = ((fuel_efficiency[4] - fuel_efficiency[0]) / fuel_efficiency[0]) * 100"
   ]
  },
  {
   "cell_type": "code",
   "execution_count": 4,
   "id": "4cec4be0-f001-4b88-9a7e-1c4b6878e14b",
   "metadata": {},
   "outputs": [
    {
     "name": "stdout",
     "output_type": "stream",
     "text": [
      "Average Fuel Efficiency: 30.0\n",
      "Improvement from model 1 to 5: 40.0 %\n"
     ]
    }
   ],
   "source": [
    "print(\"Average Fuel Efficiency:\", avg_eff)\n",
    "print(\"Improvement from model 1 to 5:\", improvement, \"%\")"
   ]
  },
  {
   "cell_type": "code",
   "execution_count": null,
   "id": "9d7bc986-f31e-44b1-a32e-f38cbee90249",
   "metadata": {},
   "outputs": [],
   "source": []
  }
 ],
 "metadata": {
  "kernelspec": {
   "display_name": "Python 3 (ipykernel)",
   "language": "python",
   "name": "python3"
  },
  "language_info": {
   "codemirror_mode": {
    "name": "ipython",
    "version": 3
   },
   "file_extension": ".py",
   "mimetype": "text/x-python",
   "name": "python",
   "nbconvert_exporter": "python",
   "pygments_lexer": "ipython3",
   "version": "3.12.4"
  }
 },
 "nbformat": 4,
 "nbformat_minor": 5
}
