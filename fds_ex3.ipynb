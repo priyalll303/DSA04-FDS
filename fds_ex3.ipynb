{
 "cells": [
  {
   "cell_type": "code",
   "execution_count": 1,
   "id": "4c6b5f72-5cfa-4575-9092-504c881f9269",
   "metadata": {},
   "outputs": [],
   "source": [
    "import numpy as np"
   ]
  },
  {
   "cell_type": "code",
   "execution_count": 2,
   "id": "acc08762-be2c-417d-9967-636c51887dd7",
   "metadata": {},
   "outputs": [],
   "source": [
    "house_data = np.array([\n",
    "    [3, 1500, 300000],\n",
    "    [5, 2500, 450000],\n",
    "    [6, 2800, 500000],\n",
    "    [2, 1200, 200000]\n",
    "])"
   ]
  },
  {
   "cell_type": "code",
   "execution_count": 3,
   "id": "567f7d88-8eba-4a38-9c79-261cc01fb967",
   "metadata": {},
   "outputs": [
    {
     "name": "stdout",
     "output_type": "stream",
     "text": [
      "Avg Price (More than 4 bedrooms): 475000.0\n"
     ]
    }
   ],
   "source": [
    "filtered = house_data[house_data[:, 0] > 4]\n",
    "avg_price = np.mean(filtered[:, 2])\n",
    "print(\"Avg Price (More than 4 bedrooms):\", avg_price)"
   ]
  },
  {
   "cell_type": "code",
   "execution_count": null,
   "id": "1ca393d2-4665-4084-8dd1-f0a9353e0f71",
   "metadata": {},
   "outputs": [],
   "source": []
  }
 ],
 "metadata": {
  "kernelspec": {
   "display_name": "Python 3 (ipykernel)",
   "language": "python",
   "name": "python3"
  },
  "language_info": {
   "codemirror_mode": {
    "name": "ipython",
    "version": 3
   },
   "file_extension": ".py",
   "mimetype": "text/x-python",
   "name": "python",
   "nbconvert_exporter": "python",
   "pygments_lexer": "ipython3",
   "version": "3.12.4"
  }
 },
 "nbformat": 4,
 "nbformat_minor": 5
}
